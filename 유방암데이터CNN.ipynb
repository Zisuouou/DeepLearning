{
 "cells": [
  {
   "cell_type": "code",
   "execution_count": 1,
   "id": "d1be9881",
   "metadata": {},
   "outputs": [],
   "source": [
    "# import the necessary packages\n",
    "from pyimagesearch import config\n",
    "from imutils import paths\n",
    "import random\n",
    "import shutil\n",
    "import os\n",
    "# grab the paths to all input images in the original input directory \n",
    "# and shuffle the\n",
    "imagePaths = list(paths.list_images(config.ORIG_INPUT_DATASET))\n",
    "random.seed(42)\n",
    "random.shuffle(imagePaths)\n",
    "# compute the training and testing split\n",
    "i = int(len(imagePaths) * config.TRAIN_SPLIT)\n",
    "trainPaths = imagePaths[:i]\n",
    "testPaths = imagePaths[i:]\n",
    "# we'll be using part of the training data for validation\n",
    "i = int(len(trainPaths) * config.VAL_SPLIT)\n",
    "valPaths = trainPaths[:i]\n",
    "trainPaths = trainPaths[i:]\n",
    "# define the datasets that we'll be building\n",
    "datasets = [\n",
    "    (\"training\", trainPaths, config.TRAIN_PATH),\n",
    "    (\"validation\", valPaths, config.VAL_PATH),\n",
    "    (\"testing\", testPaths, config.TEST_PATH)\n",
    "]"
   ]
  },
  {
   "cell_type": "code",
   "execution_count": null,
   "id": "50a42820",
   "metadata": {},
   "outputs": [
    {
     "name": "stdout",
     "output_type": "stream",
     "text": [
      "[INFO] building 'training' split\n",
      "[INFO] 'creating data/split/\\training' directory\n",
      "[INFO] 'creating data/split/\\training\\0' directory\n",
      "[INFO] 'creating data/split/\\training\\1' directory\n"
     ]
    }
   ],
   "source": [
    "# loop over the datasets\n",
    "for (dType, imagePaths, baseOutput) in datasets:\n",
    "    # show which data split we are creating\n",
    "    print(\"[INFO] building '{}' split\".format(dType))\n",
    "    # if the output base output directory does not exist, create it\n",
    "    if not os.path.exists(baseOutput):\n",
    "        print(\"[INFO] 'creating {}' directory\".format(baseOutput))\n",
    "        os.makedirs(baseOutput)\n",
    "    # loop over the input image paths\n",
    "    for inputPath in imagePaths:\n",
    "        # extract the filename of the input image and extract the\n",
    "        # class label (\"0\" for \"nagative\" and \"1\" for \"positive\")\n",
    "        filename = inputPath.split(os.path.sep)[-1]\n",
    "        label = filename[-5:-4]\n",
    "        # build the path to the label directory\n",
    "        labelPath = os.path.sep.join([baseOutput, label])\n",
    "        # if the label output directory does not exist, create it\n",
    "        if not os.path.exists(labelPath):\n",
    "            print(\"[INFO] 'creating {}' directory\".format(labelPath))\n",
    "            os.makedirs(labelPath)\n",
    "        # construct the path to the destination image and then copy\n",
    "        # the image itself\n",
    "        p = os.path.sep.join([labelPath, filename])\n",
    "        shutil.copy2(inputPath, p)"
   ]
  },
  {
   "cell_type": "markdown",
   "id": "c193024c",
   "metadata": {},
   "source": [
    "- 이미지 압축이 아직 덜풀렸음"
   ]
  },
  {
   "cell_type": "markdown",
   "id": "4c8fdcce",
   "metadata": {},
   "source": [
    "## CancerNet 설정"
   ]
  },
  {
   "cell_type": "code",
   "execution_count": null,
   "id": "7a3f6c7f",
   "metadata": {},
   "outputs": [],
   "source": [
    "# 필요 패키지\n",
    "from tensorflow.keras.models import Sequential\n",
    "from tensorflow.keras.layers import BatchNormalization\n",
    "from tensorflow.keras.layers import SeparableConv2D\n",
    "from tensorflow.keras.layers import MaxPooling2D\n",
    "from tensorflow.keras.layers import Activation\n",
    "from tensorflow.keras.layers import Flatten\n",
    "from tensorflow.keras.layers import Dropout\n",
    "from tensorflow.keras.layers import Dense\n",
    "from tensorflow.keras import backend as K"
   ]
  },
  {
   "cell_type": "code",
   "execution_count": null,
   "id": "a9a5fc77",
   "metadata": {},
   "outputs": [],
   "source": [
    "class CancerNet:\n",
    "    @staticmethod # 클래스를 부르면 자동으로 실행 되라고 \n",
    "    def build(width, height, depth, classes):\n",
    "        # initalize the model along with the input shape to be\n",
    "        # \"channels last\" and the channels dimension itself\n",
    "        model = Sequential()\n",
    "        inputShape = (height, width, depth)\n",
    "        chanDim = -1\n",
    "        # if we are using \"channels first\", update the input shape\n",
    "        # and channels dimension\n",
    "        if K.image_data_format() == \"channels_first\":\n",
    "            inputShape = (depth, height, width)\n",
    "            chanDim = 1\n",
    "            \n",
    "        # Conv => RELU => POOL\n",
    "        model.add(SeparableConv2D(32, (3, 3), padding = \"same\", input_shape = inputShape))\n",
    "        model.add(Activation(\"relu\"))\n",
    "        model.add(BatchNormalization(axis = chanDim))\n",
    "        model.add(MaxPooling2D(pool_size = (2, 2)))\n",
    "        model.add(Dropout(0.25))\n",
    "        # (CONV => RELU => POOL) * 2\n",
    "        model.add(SeparableConv2D(64, (3, 3), padding = \"same\"))\n",
    "        model.add(Activation(\"relu\"))\n",
    "        model.add(BatchNormalization(axis = chanDim))\n",
    "        model.add(SeparableConv2D(64, (3, 3), padding = \"smae\"))\n",
    "        model.add(Activation(\"relu\"))\n",
    "        model.add(BatchNormalization(axis = chanDim))\n",
    "        model.add(MaxPooling2D(pool_size = (2, 2)))\n",
    "        model.add(Dropout(0.25))\n",
    "        # (CONV => RELU => POOL) * 3\n",
    "        model.add(SeparableConv2D(128, (3, 3), padding = \"same\"))\n",
    "        model.add(Activation(\"relu\"))\n",
    "        model.add(BatchNormalization(axis = chanDim))\n",
    "        model.add(SeparableConv2D(128, (3, 3), padding = \"smae\"))\n",
    "        model.add(Activation(\"relu\"))\n",
    "        model.add(BatchNormalization(axis = chanDim))   \n",
    "        model.add(SeparableConv2D(128, (3, 3), padding = \"smae\"))\n",
    "        model.add(Activation(\"relu\"))\n",
    "        model.add(BatchNormalization(axis = chanDim))  \n",
    "        model.add(MaxPooling2D(pool_size = (2, 2)))\n",
    "        model.add(Dropout(0.25))       \n",
    "        # first (and only) set of FC => RELU layers\n",
    "        model.add(Flatten())\n",
    "        model.add(Dense(256))\n",
    "        model.add(Activation(\"relu\"))\n",
    "        model.add(BatchNormalization())\n",
    "        model.add(Dropout(0.5))\n",
    "        # softmax classifier\n",
    "        model.add(Dense(classes))\n",
    "        model.add(Activation(\"softmax\"))\n",
    "        # return the constucted network architecture\n",
    "        return model"
   ]
  },
  {
   "cell_type": "markdown",
   "id": "68366516",
   "metadata": {},
   "source": [
    "## Training Script\n",
    "\n",
    "- Create a new file named train_model.py, and insert the following"
   ]
  },
  {
   "cell_type": "code",
   "execution_count": null,
   "id": "314a0296",
   "metadata": {},
   "outputs": [],
   "source": [
    "# Set the matplotlib backend so figures can be saved in the background\n",
    "import matplotlib\n",
    "matplotlib.use(\"Agg\")"
   ]
  },
  {
   "cell_type": "code",
   "execution_count": null,
   "id": "969ca2fd",
   "metadata": {},
   "outputs": [],
   "source": [
    "# 필요 패키지 설정\n",
    "from tensorflow.keras.preprocessing.image import ImageDataGenerator\n",
    "from tensorflow.keras.callbacks import LearningRateScheduler\n",
    "from tensorflow.keras.optimizers import Adagrad\n",
    "from tensorflow.keras.utils import to_categorical\n",
    "from sklearn.metrics import classification_report\n",
    "from sklearn.metrics import confusion_matrix\n",
    "from pyimagesearch.cancernet import CancerNet\n",
    "from pyimagesearch import config\n",
    "from imutils import paths\n",
    "import matplotlib.pyplot as plt\n",
    "import numpy as np\n",
    "import argparse\n",
    "import os\n",
    "\n",
    "# construct the argement parser and parse the arguments\n",
    "parser = argparse.ArgumentParser()\n",
    "parser.add_argument(\"-p\", \"--plot\", type=str, default=\"plot.png\",\n",
    "                   help=\"path to output loss/accuracy plot\")\n",
    "args = vars(parser.parse_args(args=[]))"
   ]
  },
  {
   "cell_type": "markdown",
   "id": "74918fdf",
   "metadata": {},
   "source": [
    "## Training Script - Parameters"
   ]
  },
  {
   "cell_type": "code",
   "execution_count": null,
   "id": "0fcd7d86",
   "metadata": {},
   "outputs": [],
   "source": [
    "# initialize our number of epochs, initial leraning rate, and batch size\n",
    "NUM_EPOCHS = 15 # 더 크게 돌려야하는데 내 컴터 성능이 구져서 쩔수임\n",
    "INIT_LR = 1e-2\n",
    "BS = 32\n",
    "\n",
    "# determine the total number of image paths in training, validation, and testing directories\n",
    "trainPaths = list(paths.list_images(config.TRAIN_PATH))\n",
    "totalTrain = len(trainPaths)\n",
    "totalVal = len(list(paths.list_images(config.VAL_PATH)))\n",
    "totalTest = len(list(paths.list_images(config.TEST_PATH)))\n",
    "\n",
    "# calculate the totla number of training images in each class and\n",
    "# initialize a dictionary to store the class weights\n",
    "trainLabels = [int(p.split(os.path.sep)[-2]) for p in trainPaths]\n",
    "trainLabels = to_categorical(trainLabels)\n",
    "classTotals = trainLabels.sum(axis = 0)\n",
    "classWeight = dict()\n",
    "\n",
    "# loop over all classes and calculate the class weight\n",
    "for i in range(0, len(classTotals)):\n",
    "    classWeight[i] = classTotals.max() / classTotals[i]"
   ]
  },
  {
   "cell_type": "markdown",
   "id": "49d6a975",
   "metadata": {},
   "source": [
    "- 이거 데이터 없어서 그럼 데이터 완료하고 다시 해봐야함"
   ]
  },
  {
   "cell_type": "code",
   "execution_count": null,
   "id": "cf3ba120",
   "metadata": {},
   "outputs": [],
   "source": [
    "# initialize the training data augmentation object\n",
    "trainAug = ImageDataGenerator(\n",
    "    rescale = 1 / 255.0,\n",
    "    rotation_range = 20,\n",
    "    zoom_range = 0.05,\n",
    "    width_shift_range = 0.1,\n",
    "    height_shift_range = 0.1,\n",
    "    shear_range = 0.05,\n",
    "    horizontal_flip = True,\n",
    "    vertical_flip = True,\n",
    "    fill_mode = \"nearest\")\n",
    "\n",
    "# initialize the validation (and testing) data augmentation object\n",
    "valAug = ImageDataGenerator(rescale = 1 / 255.0)\n",
    "\n",
    "# initialize the training generator\n",
    "trainGen = trainAug.flow_from_directory(\n",
    "    config.TRAIN_PATH,\n",
    "    class_mode = \"categorical\",\n",
    "    target_size = (48, 48),\n",
    "    color_mode = \"rgb\",\n",
    "    shuffle = True,\n",
    "    batch_size = BS)\n",
    "\n",
    "# initialize the validation generator\n",
    "valGen = valAug.flow_from_directory(\n",
    "    config.VAL_PATH,\n",
    "    class_mode = \"categorical\",\n",
    "    target_size = (48, 48),\n",
    "    color_mode = \"rgb\",\n",
    "    shuffle = False,\n",
    "    batch_size = BS)\n",
    "\n",
    "# initialize the validation generator\n",
    "testGen = valAug.flow_from_directory(\n",
    "    config.TEST_PATH,\n",
    "    class_mode = \"categorical\",\n",
    "    target_size = (48, 48),\n",
    "    color_mode = \"rgb\",\n",
    "    shuffle = False,\n",
    "    batch_size = BS)"
   ]
  },
  {
   "cell_type": "markdown",
   "id": "8e8f2ca2",
   "metadata": {},
   "source": [
    "## 모델 초기화 및 컴파일"
   ]
  },
  {
   "cell_type": "code",
   "execution_count": null,
   "id": "797a266b",
   "metadata": {},
   "outputs": [],
   "source": [
    "# initialize our CancerNet model and compile it\n",
    "model = CancerNet.build(width=48, height=48, depth=3, classes = 2)\n",
    "opt = Adagrad(learning_rate = INIT_LR, decay = INIT_LR/NUM_EPOCHS)\n",
    "model.compile(loss = \"binary_crossentropy\", optimizer = opt,\n",
    "             metrics = [\"accuracy\"])\n",
    "\n",
    "# fit the model\n",
    "H = model.fit(\n",
    "    x = trainGen,\n",
    "    steps_per_epochs = totalTrain // BS,\n",
    "    validation_data = valGen,\n",
    "    validation_steps = totalVal // BS,\n",
    "    class_weight = classWeight,\n",
    "    epochs = NUM_EPOCHS)"
   ]
  },
  {
   "cell_type": "markdown",
   "id": "77f8fbd1",
   "metadata": {},
   "source": [
    "## 모델평가"
   ]
  },
  {
   "cell_type": "code",
   "execution_count": null,
   "id": "a968e536",
   "metadata": {},
   "outputs": [],
   "source": [
    "# reset the testing generator and then use our trained model to\n",
    "# make predictions on the data\n",
    "print(\"[INFO] evaluating network...\")\n",
    "testGen.reset()\n",
    "predIdxs = model.predict(x = testGen, steps = (totalTest // BS) + 1)\n",
    "# for each image in the testing set we need to find the index of the\n",
    "# label with corresponding largest predicted probability\n",
    "predIdxs = np.argmax(predIdsx, axis = 1)\n",
    "# show a nicely formatted classification report\n",
    "print(classification_report(testGen.classes, predIdxs,\n",
    "                           target_names = testGen.class_indices.keys()))\n",
    "\n",
    "# compute the confusion matrix and and use it to derive the raw\n",
    "# accuracy, sensitivity, and specificity\n",
    "cm = confusion_matrix(testGen.classes, predIdxs)\n",
    "total = sum(sum(cm))\n",
    "acc = (cm[0, 0] + cm[1, 1]) / total\n",
    "sensitivity = cm[0, 0] / (cm[0, 0] + cm[0, 1])\n",
    "specificity = cm[1, 1] / (cm[1, 0] + cm[1, 1])\n",
    "\n",
    "# show the confusion matrix, accuracy, sensitivity, and specificity\n",
    "print(cm)\n",
    "print(\"acc: {:.4f}\".format(acc))\n",
    "print(\"sensitivity: {:.4f}\".format(sensitivity))\n",
    "print(\"specificity: {:.4f}\".format(specificity))"
   ]
  },
  {
   "cell_type": "markdown",
   "id": "2ea7a52d",
   "metadata": {},
   "source": [
    "### 시각화"
   ]
  },
  {
   "cell_type": "code",
   "execution_count": null,
   "id": "61b4c3dc",
   "metadata": {},
   "outputs": [],
   "source": [
    "# plot the training loss and accuracy\n",
    "N = NUM_EPOCHS\n",
    "plt.style.use(\"ggplot\")\n",
    "plt.figure()\n",
    "plt.plot(np.arange(0, N), H.history[\"loss\"], label = \"train_loss\")\n",
    "plt.plot(np.arange(0, N), H.history[\"val_loss\"], label = \"val_loss\")\n",
    "plt.plot(np.arange(0, N), H.history[\"accuracy\"], label = \"train_acc\")\n",
    "plt.plot(np.arange(0, N), H.history[\"val_accuracy\"], label = \"val_acc\")\n",
    "plt.title(\"Training Loss and Accuracy on Dataset\")\n",
    "plt.xlabel(\"Epoch #\")\n",
    "plt.ylabel(\"Loss/Accuracy\")\n",
    "plt.legend(loc=\"lower left\")\n",
    "plt.savefig(args[\"plot\"])"
   ]
  },
  {
   "cell_type": "markdown",
   "id": "2c37c6ae",
   "metadata": {},
   "source": [
    "- 데이터 파일 이름 수정해야함"
   ]
  },
  {
   "cell_type": "code",
   "execution_count": null,
   "id": "c60f5e24",
   "metadata": {},
   "outputs": [],
   "source": []
  },
  {
   "cell_type": "code",
   "execution_count": null,
   "id": "cd3b0f72",
   "metadata": {},
   "outputs": [],
   "source": []
  },
  {
   "cell_type": "code",
   "execution_count": null,
   "id": "a799feb3",
   "metadata": {},
   "outputs": [],
   "source": []
  },
  {
   "cell_type": "code",
   "execution_count": null,
   "id": "00b565fa",
   "metadata": {},
   "outputs": [],
   "source": []
  },
  {
   "cell_type": "code",
   "execution_count": null,
   "id": "a1a97ccc",
   "metadata": {},
   "outputs": [],
   "source": []
  },
  {
   "cell_type": "code",
   "execution_count": null,
   "id": "fbdaf313",
   "metadata": {},
   "outputs": [],
   "source": []
  },
  {
   "cell_type": "code",
   "execution_count": null,
   "id": "bad05366",
   "metadata": {},
   "outputs": [],
   "source": []
  },
  {
   "cell_type": "code",
   "execution_count": null,
   "id": "55101209",
   "metadata": {},
   "outputs": [],
   "source": []
  }
 ],
 "metadata": {
  "kernelspec": {
   "display_name": "Python 3 (ipykernel)",
   "language": "python",
   "name": "python3"
  },
  "language_info": {
   "codemirror_mode": {
    "name": "ipython",
    "version": 3
   },
   "file_extension": ".py",
   "mimetype": "text/x-python",
   "name": "python",
   "nbconvert_exporter": "python",
   "pygments_lexer": "ipython3",
   "version": "3.11.5"
  }
 },
 "nbformat": 4,
 "nbformat_minor": 5
}
